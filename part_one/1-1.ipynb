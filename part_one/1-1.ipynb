{
 "cells": [
  {
   "cell_type": "markdown",
   "metadata": {},
   "source": [
    "## Example 1-1: Instance-Based Versus Model-Based Learning\n",
    "For this example, we are going to create a model that calculates a prediction for the life satisfaction of Cyprus, based on their GDP per capita, which is $22,587. We are going to use two generalizing approaches: Instance-based vs model-based learning.\n",
    "\n",
    "### Model-based learning w/ linear regression\n",
    "For the first approach of this problem, we are goin the use model-based learning. We will create a model that will detect patterns on the train data and construct a predictive model using linear regression."
   ]
  },
  {
   "cell_type": "markdown",
   "metadata": {},
   "source": [
    "In the function bellow, we are going to:\n",
    "1. Filter the oecd_bli dataset, leaving just the lines where the column \"INEQUALITY\" is equal to \"TOT\" (This removes any data that includes inequalities or subcategories);\n",
    "2. We are also going to reshape the OECD data using the pivot method. It sets \"Country\" as the row index, the values in the \"Indicator\" column as new columns, and the corresponding \"Value\" as the values for these new columns. This transforms the data into a format where each row represents a country, and each column represents an indicator (e.g., life satisfaction).\n",
    "3. On the in the GDP dataset, we are going to rename the column that corresponds to the year 2015 to \"GDP per capita\" and sets the \"Country\" column as the index, so it can be aligned with the OECD data for merging.\n",
    "4. Merge the two datasets using the country names as the index. This combines the life satisfaction data from the OECD and the GDP per capita data from the IMF into a single dataset.\n",
    "5. Sort the merged dataset by GDP per capita in ascending order, so countries with lower GDP per capita appear first.\n",
    "6. Remove certain countries from the dataset (why?)\n"
   ]
  },
  {
   "cell_type": "markdown",
   "metadata": {},
   "source": []
  },
  {
   "cell_type": "code",
   "execution_count": 28,
   "metadata": {},
   "outputs": [],
   "source": [
    "# This function just merges the OECD's life satisfaction data and the IMF's GDP per capita data.\n",
    "def prepare_country_stats(oecd_bli, gdp_per_capita):\n",
    "    oecd_bli = oecd_bli[oecd_bli[\"INEQUALITY\"]==\"TOT\"]\n",
    "    oecd_bli = oecd_bli.pivot(index=\"Country\", columns=\"Indicator\", values=\"Value\")\n",
    "    gdp_per_capita.rename(columns={\"2015\": \"GDP per capita\"}, inplace=True)\n",
    "    gdp_per_capita.set_index(\"Country\", inplace=True)\n",
    "    full_country_stats = pd.merge(left=oecd_bli, right=gdp_per_capita,\n",
    "                                  left_index=True, right_index=True)\n",
    "    full_country_stats.sort_values(by=\"GDP per capita\", inplace=True)\n",
    "    remove_indices = [0, 1, 6, 8, 33, 34, 35]\n",
    "    keep_indices = list(set(range(36)) - set(remove_indices))\n",
    "    return full_country_stats[[\"GDP per capita\", 'Life satisfaction']].iloc[keep_indices]\n"
   ]
  },
  {
   "cell_type": "code",
   "execution_count": 29,
   "metadata": {},
   "outputs": [],
   "source": [
    "import os\n",
    "datapath = os.path.join(\"datasets\", \"life_sat\", \"\")\n"
   ]
  },
  {
   "cell_type": "markdown",
   "metadata": {},
   "source": [
    "The function above (os.path.join()) combines different components of a file or directory path. The result of this code is a path pointing to the \"datasets\\life_sat\\\" on Windows. The empty string at the end ensures that the path ends with a directory separator."
   ]
  },
  {
   "cell_type": "code",
   "execution_count": 30,
   "metadata": {},
   "outputs": [],
   "source": [
    "# To plot pretty figures directly within Jupyter\n",
    "%matplotlib inline\n",
    "import matplotlib as mpl\n",
    "mpl.rc('axes', labelsize=14)\n",
    "mpl.rc('xtick', labelsize=12)\n",
    "mpl.rc('ytick', labelsize=12)"
   ]
  },
  {
   "cell_type": "code",
   "execution_count": 31,
   "metadata": {},
   "outputs": [
    {
     "name": "stdout",
     "output_type": "stream",
     "text": [
      "Downloading oecd_bli_2015.csv\n",
      "Downloading gdp_per_capita.csv\n"
     ]
    }
   ],
   "source": [
    "# Download the data\n",
    "import urllib.request\n",
    "DOWNLOAD_ROOT = \"https://raw.githubusercontent.com/ageron/handson-ml2/master/\"\n",
    "os.makedirs(datapath, exist_ok=True)\n",
    "for filename in (\"oecd_bli_2015.csv\", \"gdp_per_capita.csv\"):\n",
    "    print(\"Downloading\", filename)\n",
    "    url = DOWNLOAD_ROOT + \"datasets/lifesat/\" + filename\n",
    "    urllib.request.urlretrieve(url, datapath + filename)"
   ]
  },
  {
   "cell_type": "markdown",
   "metadata": {},
   "source": [
    "1. *DOWNLOAD_ROOT = \"https://raw.githubusercontent.com/ageron/handson-ml2/master/\":*\n",
    "\n",
    "Defines the root URL (the base address) of the repository from which the files will be downloaded. In this case, the files are hosted on the handson-ml2 GitHub repository.\n",
    "\n",
    "2. *os.makedirs(datapath, exist_ok=True):*\n",
    "\n",
    "Creates the datapath directory (which was built earlier with os.path.join(\"datasets\", \"life_sat\", \"\")) if it doesn't already exist. This ensures that the directory where the files will be saved is available.\n",
    "The argument exist_ok=True prevents an error if the directory already exists.\n",
    "\n",
    "3. *for filename in (\"oecd_bli_2015.csv\", \"gdp_per_capita.csv\"):*\n",
    "\n",
    "A for loop iterating over a tuple containing two filenames: \"oecd_bli_2015.csv\" and \"gdp_per_capita.csv\". For each iteration, the variable filename stores one of the filenames.\n",
    "\n",
    "\n",
    "4. *url = DOWNLOAD_ROOT + \"datasets/lifesat/\" + filename:*\n",
    "\n",
    "Constructs the full URL for each file. It concatenates the base URL (DOWNLOAD_ROOT) with the folder path in the repository (\"datasets/lifesat/\") and the file name (filename).\n",
    "Example of a full URL generated: \"https://raw.githubusercontent.com/ageron/handson-ml2/master/datasets/lifesat/oecd_bli_2015.csv\".\n",
    "\n",
    "5. *urllib.request.urlretrieve(url, datapath + filename):*\n",
    "\n",
    "Downloads the file from the constructed URL and saves it in the local datapath directory with the specified filename.\n",
    "The urlretrieve function takes two main parameters: the URL of the file and the local path where the file will be saved.\n",
    "For example, the file \"oecd_bli_2015.csv\" will be downloaded from the constructed URL and saved locally as datasets/life_sat/oecd_bli_2015.csv.\n",
    "\n",
    "*In summary, this code:\n",
    "Creates the datasets/life_sat directory (if it doesn’t already exist).\n",
    "Downloads the files oecd_bli_2015.csv and gdp_per_capita.csv from a GitHub repository.\n",
    "Saves those files in the local directory datasets/life_sat/.*\n"
   ]
  },
  {
   "cell_type": "code",
   "execution_count": 32,
   "metadata": {},
   "outputs": [
    {
     "data": {
      "text/html": [
       "<div>\n",
       "<style scoped>\n",
       "    .dataframe tbody tr th:only-of-type {\n",
       "        vertical-align: middle;\n",
       "    }\n",
       "\n",
       "    .dataframe tbody tr th {\n",
       "        vertical-align: top;\n",
       "    }\n",
       "\n",
       "    .dataframe thead th {\n",
       "        text-align: right;\n",
       "    }\n",
       "</style>\n",
       "<table border=\"1\" class=\"dataframe\">\n",
       "  <thead>\n",
       "    <tr style=\"text-align: right;\">\n",
       "      <th></th>\n",
       "      <th>GDP per capita</th>\n",
       "      <th>Life satisfaction</th>\n",
       "    </tr>\n",
       "    <tr>\n",
       "      <th>Country</th>\n",
       "      <th></th>\n",
       "      <th></th>\n",
       "    </tr>\n",
       "  </thead>\n",
       "  <tbody>\n",
       "    <tr>\n",
       "      <th>Russia</th>\n",
       "      <td>9054.914</td>\n",
       "      <td>6.0</td>\n",
       "    </tr>\n",
       "    <tr>\n",
       "      <th>Turkey</th>\n",
       "      <td>9437.372</td>\n",
       "      <td>5.6</td>\n",
       "    </tr>\n",
       "    <tr>\n",
       "      <th>Hungary</th>\n",
       "      <td>12239.894</td>\n",
       "      <td>4.9</td>\n",
       "    </tr>\n",
       "    <tr>\n",
       "      <th>Poland</th>\n",
       "      <td>12495.334</td>\n",
       "      <td>5.8</td>\n",
       "    </tr>\n",
       "    <tr>\n",
       "      <th>Slovak Republic</th>\n",
       "      <td>15991.736</td>\n",
       "      <td>6.1</td>\n",
       "    </tr>\n",
       "    <tr>\n",
       "      <th>Estonia</th>\n",
       "      <td>17288.083</td>\n",
       "      <td>5.6</td>\n",
       "    </tr>\n",
       "    <tr>\n",
       "      <th>Greece</th>\n",
       "      <td>18064.288</td>\n",
       "      <td>4.8</td>\n",
       "    </tr>\n",
       "    <tr>\n",
       "      <th>Portugal</th>\n",
       "      <td>19121.592</td>\n",
       "      <td>5.1</td>\n",
       "    </tr>\n",
       "    <tr>\n",
       "      <th>Slovenia</th>\n",
       "      <td>20732.482</td>\n",
       "      <td>5.7</td>\n",
       "    </tr>\n",
       "    <tr>\n",
       "      <th>Spain</th>\n",
       "      <td>25864.721</td>\n",
       "      <td>6.5</td>\n",
       "    </tr>\n",
       "    <tr>\n",
       "      <th>Korea</th>\n",
       "      <td>27195.197</td>\n",
       "      <td>5.8</td>\n",
       "    </tr>\n",
       "    <tr>\n",
       "      <th>Italy</th>\n",
       "      <td>29866.581</td>\n",
       "      <td>6.0</td>\n",
       "    </tr>\n",
       "    <tr>\n",
       "      <th>Japan</th>\n",
       "      <td>32485.545</td>\n",
       "      <td>5.9</td>\n",
       "    </tr>\n",
       "    <tr>\n",
       "      <th>Israel</th>\n",
       "      <td>35343.336</td>\n",
       "      <td>7.4</td>\n",
       "    </tr>\n",
       "    <tr>\n",
       "      <th>New Zealand</th>\n",
       "      <td>37044.891</td>\n",
       "      <td>7.3</td>\n",
       "    </tr>\n",
       "    <tr>\n",
       "      <th>France</th>\n",
       "      <td>37675.006</td>\n",
       "      <td>6.5</td>\n",
       "    </tr>\n",
       "    <tr>\n",
       "      <th>Belgium</th>\n",
       "      <td>40106.632</td>\n",
       "      <td>6.9</td>\n",
       "    </tr>\n",
       "    <tr>\n",
       "      <th>Germany</th>\n",
       "      <td>40996.511</td>\n",
       "      <td>7.0</td>\n",
       "    </tr>\n",
       "    <tr>\n",
       "      <th>Finland</th>\n",
       "      <td>41973.988</td>\n",
       "      <td>7.4</td>\n",
       "    </tr>\n",
       "    <tr>\n",
       "      <th>Canada</th>\n",
       "      <td>43331.961</td>\n",
       "      <td>7.3</td>\n",
       "    </tr>\n",
       "    <tr>\n",
       "      <th>Netherlands</th>\n",
       "      <td>43603.115</td>\n",
       "      <td>7.3</td>\n",
       "    </tr>\n",
       "    <tr>\n",
       "      <th>Austria</th>\n",
       "      <td>43724.031</td>\n",
       "      <td>6.9</td>\n",
       "    </tr>\n",
       "    <tr>\n",
       "      <th>United Kingdom</th>\n",
       "      <td>43770.688</td>\n",
       "      <td>6.8</td>\n",
       "    </tr>\n",
       "    <tr>\n",
       "      <th>Sweden</th>\n",
       "      <td>49866.266</td>\n",
       "      <td>7.2</td>\n",
       "    </tr>\n",
       "    <tr>\n",
       "      <th>Iceland</th>\n",
       "      <td>50854.583</td>\n",
       "      <td>7.5</td>\n",
       "    </tr>\n",
       "    <tr>\n",
       "      <th>Australia</th>\n",
       "      <td>50961.865</td>\n",
       "      <td>7.3</td>\n",
       "    </tr>\n",
       "    <tr>\n",
       "      <th>Ireland</th>\n",
       "      <td>51350.744</td>\n",
       "      <td>7.0</td>\n",
       "    </tr>\n",
       "    <tr>\n",
       "      <th>Denmark</th>\n",
       "      <td>52114.165</td>\n",
       "      <td>7.5</td>\n",
       "    </tr>\n",
       "    <tr>\n",
       "      <th>United States</th>\n",
       "      <td>55805.204</td>\n",
       "      <td>7.2</td>\n",
       "    </tr>\n",
       "  </tbody>\n",
       "</table>\n",
       "</div>"
      ],
      "text/plain": [
       "                 GDP per capita  Life satisfaction\n",
       "Country                                           \n",
       "Russia                 9054.914                6.0\n",
       "Turkey                 9437.372                5.6\n",
       "Hungary               12239.894                4.9\n",
       "Poland                12495.334                5.8\n",
       "Slovak Republic       15991.736                6.1\n",
       "Estonia               17288.083                5.6\n",
       "Greece                18064.288                4.8\n",
       "Portugal              19121.592                5.1\n",
       "Slovenia              20732.482                5.7\n",
       "Spain                 25864.721                6.5\n",
       "Korea                 27195.197                5.8\n",
       "Italy                 29866.581                6.0\n",
       "Japan                 32485.545                5.9\n",
       "Israel                35343.336                7.4\n",
       "New Zealand           37044.891                7.3\n",
       "France                37675.006                6.5\n",
       "Belgium               40106.632                6.9\n",
       "Germany               40996.511                7.0\n",
       "Finland               41973.988                7.4\n",
       "Canada                43331.961                7.3\n",
       "Netherlands           43603.115                7.3\n",
       "Austria               43724.031                6.9\n",
       "United Kingdom        43770.688                6.8\n",
       "Sweden                49866.266                7.2\n",
       "Iceland               50854.583                7.5\n",
       "Australia             50961.865                7.3\n",
       "Ireland               51350.744                7.0\n",
       "Denmark               52114.165                7.5\n",
       "United States         55805.204                7.2"
      ]
     },
     "execution_count": 32,
     "metadata": {},
     "output_type": "execute_result"
    }
   ],
   "source": [
    "# Code example\n",
    "import matplotlib.pyplot as plt\n",
    "import numpy as np\n",
    "import pandas as pd\n",
    "import sklearn.linear_model\n",
    "\n",
    "# Load the data\n",
    "oecd_bli = pd.read_csv(datapath + \"oecd_bli_2015.csv\", thousands=',')\n",
    "gdp_per_capita = pd.read_csv(datapath + \"gdp_per_capita.csv\",thousands=',',delimiter='\\t',\n",
    "                             encoding='latin1', na_values=\"n/a\")\n",
    "\n",
    "# Prepare the data\n",
    "country_stats = prepare_country_stats(oecd_bli, gdp_per_capita) # country_stats is the new dataframe\n",
    "X = np.c_[country_stats[\"GDP per capita\"]] # feature matrix\n",
    "y = np.c_[country_stats[\"Life satisfaction\"]] # target matrix\n",
    "\n",
    "# Display the DataFrame (in Jupyter, just calling the variable outputs the DataFrame)\n",
    "country_stats"
   ]
  },
  {
   "cell_type": "code",
   "execution_count": 33,
   "metadata": {},
   "outputs": [
    {
     "data": {
      "image/png": "[encoded data removed]",
      "text/plain": [
       "<Figure size 640x480 with 1 Axes>"
      ]
     },
     "metadata": {},
     "output_type": "display_data"
    },
    {
     "name": "stdout",
     "output_type": "stream",
     "text": [
      "[[5.96242338]]\n"
     ]
    }
   ],
   "source": [
    "\n",
    "\n",
    "# Visualize the data in a scatter plot (uses dots to represent values for two different numeric variables)\n",
    "country_stats.plot(kind='scatter', x=\"GDP per capita\", y='Life satisfaction')\n",
    "plt.show()\n",
    "\n",
    "# Select a linear model\n",
    "model = sklearn.linear_model.LinearRegression() # Creates an instance of the linear regression model from the scikit-learn library\n",
    "\n",
    "# Train the model\n",
    "model.fit(X, y) # Trains (or fits) the linear regression model using the GDP per capita (X) as the input and life satisfaction (y) as the target.\n",
    "\n",
    "# Make a prediction for Cyprus\n",
    "X_new = [[22587]]  # Cyprus' GDP per capita\n",
    "print(model.predict(X_new)) # outputs [[ 5.96242338]]"
   ]
  },
  {
   "cell_type": "markdown",
   "metadata": {},
   "source": [
    "*P.S.*:\n",
    "1. Why do we need to explicitly specify the GDP per capita for Cyprus (*X_new = [[22587]]*) in the code?\n",
    "\n",
    "Because we are making predictions for countries outside the training data: The model is trained on the filtered dataset. However, the task here is to make a prediction for Cyprus.\n",
    "\n",
    "2. Why this model is a model-based learning using linear regression?\n",
    "\n",
    "Model-based learning refers to an approach where the algorithm builds a model based on the patterns it identifies in the training data. The model then uses these learned patterns to make predictions on new data. The linear regression model tries to find the best-fitting line that represents the relationship between the independent variable (GDP per capita) and the dependent variable (life satisfaction).\n",
    "Once trained, the model stores this learned relationship (in the form of a mathematical equation) and can use it to make predictions for new data, like predicting Cyprus' life satisfaction based on its GDP per capita.\n",
    "\n",
    "3. Does a linear regression problem necessarily need to have one variable (feature) and another as the target?\n",
    "\n",
    "Only if it is a simple Linear Regression, such as the one we have here. It involves only one independent variable and one dependent variable. For example, predicting life satisfaction (target) based on GDP per capita (feature).\n",
    "\n",
    "Feature: GDP per capita\n",
    "Target: Life satisfaction\n",
    "\n",
    "In a case of multiple Linear Regression, we have multiple independent variables (features) to predict a single dependent variable. For example, predicting life satisfaction based on GDP per capita, life expectancy, education level, etc:\n",
    "\n",
    "Features: GDP per capita, life expectancy, education level, etc.\n",
    "Target: Life satisfaction."
   ]
  },
  {
   "cell_type": "markdown",
   "metadata": {},
   "source": [
    "### Instance-Based learning w/ k-Nearest Neighbors regression (KNN)\n",
    "For this second approach, our model will compare new points with points in our dataset. The measure that our model will use is called k-Nearest Neighbors (in this example, k = 3).\n",
    "To make this model an Instance-based learning model, we just need to replace the Linear Regression model with k-Nearest Neighbors regression. In order to do this, we just need to replace two lines in our previous code."
   ]
  },
  {
   "cell_type": "code",
   "execution_count": 34,
   "metadata": {},
   "outputs": [
    {
     "name": "stdout",
     "output_type": "stream",
     "text": [
      "[[5.76666667]]\n"
     ]
    }
   ],
   "source": [
    "# Select a 3-Nearest Neighbors regression model\n",
    "import sklearn.neighbors\n",
    "model1 = sklearn.neighbors.KNeighborsRegressor(n_neighbors=3)\n",
    "\n",
    "# Train the model\n",
    "model1.fit(X,y)\n",
    "\n",
    "# Make a prediction for Cyprus\n",
    "print(model1.predict(X_new)) # outputs [[5.76666667]]"
   ]
  },
  {
   "cell_type": "markdown",
   "metadata": {},
   "source": [
    "*P.S.:*\n",
    "1. Why KNN is an instance-based model algorithm?\n",
    "\n",
    "KNN is an instance-based learning algorithm, meaning it doesn’t create a general model during training. Instead, it memorizes the training instances (data points) and uses them directly for making predictions.\n",
    "When you call *model1.fit(X, y)*, the KNN algorithm stores the features (GDP per capita) and corresponding targets (life satisfaction) for all the training instances. The default distance metric is typically Euclidean distance, but this can be changed if needed.\n",
    "When you call model1.predict(X_new), KNN performs the following steps:\n",
    "- Calculate Distance: It calculates the distance from the new data point (Cyprus’ GDP per capita, X_new = [[22587]]) to all the points in the training dataset.\n",
    "- Find Neighbors: It identifies the k (in this case, 3) closest points (neighbors) to Cyprus based on the calculated distances.\n",
    "- Average the Targets: It then averages the life satisfaction values of these 3 nearest neighbors to make the prediction for Cyprus."
   ]
  },
  {
   "cell_type": "markdown",
   "metadata": {},
   "source": [
    "## Finding Out Which Countries are Selected:"
   ]
  },
  {
   "cell_type": "code",
   "execution_count": 36,
   "metadata": {},
   "outputs": [
    {
     "name": "stdout",
     "output_type": "stream",
     "text": [
      "Country: Slovenia, Distance: 1854.518\n",
      "Country: Spain, Distance: 3277.7210000000014\n",
      "Country: Portugal, Distance: 3465.4079999999994\n"
     ]
    }
   ],
   "source": [
    "import sklearn.neighbors\n",
    "\n",
    "# Assuming country_stats contains the original data with country names\n",
    "countries = country_stats.index.tolist()  # Get the list of countries\n",
    "\n",
    "# Create and train the KNN model\n",
    "model1 = sklearn.neighbors.KNeighborsRegressor(n_neighbors=3)\n",
    "model1.fit(X, y)\n",
    "\n",
    "# Find the neighbors for Cyprus\n",
    "distances, indices = model1.kneighbors(X_new)\n",
    "\n",
    "# Output the distances and the corresponding countries\n",
    "for distance, index in zip(distances[0], indices[0]):\n",
    "    print(f\"Country: {countries[index]}, Distance: {distance}\")\n"
   ]
  }
 ],
 "metadata": {
  "kernelspec": {
   "display_name": "Python 3",
   "language": "python",
   "name": "python3"
  },
  "language_info": {
   "codemirror_mode": {
    "name": "ipython",
    "version": 3
   },
   "file_extension": ".py",
   "mimetype": "text/x-python",
   "name": "python",
   "nbconvert_exporter": "python",
   "pygments_lexer": "ipython3",
   "version": "3.11.5"
  }
 },
 "nbformat": 4,
 "nbformat_minor": 2
}
